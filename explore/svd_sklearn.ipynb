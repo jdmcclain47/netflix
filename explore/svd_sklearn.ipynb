{
 "cells": [
  {
   "cell_type": "code",
   "execution_count": 1,
   "metadata": {
    "collapsed": true
   },
   "outputs": [],
   "source": [
    "import numpy as np\n",
    "from sklearn.decomposition import truncated_svd\n",
    "from scipy.sparse import csr_matrix\n"
   ]
  },
  {
   "cell_type": "code",
   "execution_count": 2,
   "metadata": {
    "collapsed": true
   },
   "outputs": [],
   "source": [
    "file_dir = \"../data/mu/\"\n",
    "\n",
    "all_data = np.fromfile(file_dir + \"all.dta_np\", dtype = np.int32).reshape(-1, 4)\n",
    "all_idx = np.fromfile(file_dir + \"all.idx_np\", dtype = np.int32)\n"
   ]
  },
  {
   "cell_type": "code",
   "execution_count": 3,
   "metadata": {},
   "outputs": [
    {
     "name": "stdout",
     "output_type": "stream",
     "text": [
      "base 96% 94362233\n",
      "valid 2% 1965045\n",
      "hidden 2% 1964391\n",
      "probe 1374739\n",
      "qual 2749898\n"
     ]
    }
   ],
   "source": [
    "print \"base 96%\", np.count_nonzero(all_idx == 1)\n",
    "print \"valid 2%\", np.count_nonzero(all_idx == 2)\n",
    "print \"hidden 2%\", np.count_nonzero(all_idx == 3)\n",
    "print \"probe\", np.count_nonzero(all_idx == 4)\n",
    "print \"qual\", np.count_nonzero(all_idx == 5)\n"
   ]
  },
  {
   "cell_type": "code",
   "execution_count": 4,
   "metadata": {
    "collapsed": true
   },
   "outputs": [],
   "source": [
    "train_data = all_data[np.where(all_idx == 1)]\n",
    "ntrain = train_data.shape[0]\n",
    "\n",
    "validate_data = all_data[np.where(all_idx == 2)]\n",
    "nvalidate = validate_data.shape[0]"
   ]
  },
  {
   "cell_type": "code",
   "execution_count": 7,
   "metadata": {
    "collapsed": true
   },
   "outputs": [],
   "source": [
    "train_data_csr = csr_matrix((train_data[:, 3], (train_data[:, 1], train_data[:, 0])))\n",
    "train_data_csr.shape"
   ]
  },
  {
   "cell_type": "code",
   "execution_count": 10,
   "metadata": {},
   "outputs": [
    {
     "name": "stdout",
     "output_type": "stream",
     "text": [
      "CPU times: user 2min 9s, sys: 13 s, total: 2min 22s\n",
      "Wall time: 2min 33s\n"
     ]
    }
   ],
   "source": [
    "%%time\n",
    "\n",
    "U, S, V = truncated_svd.randomized_svd(train_data_csr, n_components = 20, n_oversamples = 10, \\\n",
    "                             n_iter = 'auto', power_iteration_normalizer = 'auto', transpose = 'auto', \\\n",
    "                             flip_sign = True, random_state = 0)\n"
   ]
  },
  {
   "cell_type": "code",
   "execution_count": 23,
   "metadata": {},
   "outputs": [
    {
     "name": "stdout",
     "output_type": "stream",
     "text": [
      "2.60505739157\n"
     ]
    }
   ],
   "source": [
    "# in sample error\n",
    "train_data_sub = train_data[np.random.randint(1000)::1000]\n",
    "y = train_data_sub[:, 3]\n",
    "u = U[train_data_sub[:, 1]]\n",
    "v = V[:, train_data_sub[:, 0]]\n",
    "y_pred = np.einsum(\"ij,j,ji->i\", u, S, v)\n",
    "print np.sqrt(np.average((y - y_pred) ** 2))"
   ]
  },
  {
   "cell_type": "code",
   "execution_count": 27,
   "metadata": {},
   "outputs": [
    {
     "name": "stdout",
     "output_type": "stream",
     "text": [
      "[[ 0.24502181]]\n",
      "[ 3.26777964]\n"
     ]
    }
   ],
   "source": [
    "from sklearn.linear_model import LinearRegression\n",
    "lr = LinearRegression(fit_intercept = True)\n",
    "lr.fit(y_pred.reshape(-1, 1), y.reshape(-1, 1))\n",
    "\n",
    "print lr.coef_\n",
    "print lr.intercept_"
   ]
  },
  {
   "cell_type": "code",
   "execution_count": 14,
   "metadata": {},
   "outputs": [
    {
     "name": "stdout",
     "output_type": "stream",
     "text": [
      "1.04462151344\n"
     ]
    }
   ],
   "source": [
    "# validation error\n",
    "y = validate_data[:, 3]\n",
    "u = U[validate_data[:, 1]]\n",
    "v = V[:, validate_data[:, 0]]\n",
    "y_pred = np.einsum(\"ij,j,ji->i\", u, S, v)\n",
    "y_pred1 = lr.predict(y_pred.reshape(-1, 1)).reshape(-1)\n",
    "print np.sqrt(np.average((y - y_pred1) ** 2))"
   ]
  },
  {
   "cell_type": "code",
   "execution_count": 21,
   "metadata": {},
   "outputs": [
    {
     "data": {
      "image/png": "[encoded data removed]",
      "text/plain": [
       "<matplotlib.figure.Figure at 0x10d381b50>"
      ]
     },
     "metadata": {},
     "output_type": "display_data"
    },
    {
     "data": {
      "image/png": "[encoded data removed]",
      "text/plain": [
       "<matplotlib.figure.Figure at 0x1149b9790>"
      ]
     },
     "metadata": {},
     "output_type": "display_data"
    }
   ],
   "source": [
    "%matplotlib inline\n",
    "import matplotlib.pyplot as plt\n",
    "plt.scatter(y, y_pred)\n",
    "plt.show()\n",
    "plt.scatter(y, y_pred1)\n",
    "plt.show()"
   ]
  },
  {
   "cell_type": "markdown",
   "metadata": {},
   "source": [
    "    in sample  out of sample\n",
    "\n",
    "1:   3.02772565908     3.02876016098\n",
    "\n",
    "5:   2.79278816279     2.81172254516\n",
    "\n",
    "10:  2.69185937661     2.71344419387\n",
    "\n",
    "20:  2.59488662126     2.64039379375\n",
    "\n",
    "improvement via linear regression: test error reduced to 1.04462151344 with K = 20"
   ]
  }
 ],
 "metadata": {
  "kernelspec": {
   "display_name": "Python 2",
   "language": "python",
   "name": "python2"
  },
  "language_info": {
   "codemirror_mode": {
    "name": "ipython",
    "version": 2
   },
   "file_extension": ".py",
   "mimetype": "text/x-python",
   "name": "python",
   "nbconvert_exporter": "python",
   "pygments_lexer": "ipython2",
   "version": "2.7.13"
  }
 },
 "nbformat": 4,
 "nbformat_minor": 2
}
